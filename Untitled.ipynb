{
 "cells": [
  {
   "cell_type": "code",
   "execution_count": 17,
   "id": "86ccda3e",
   "metadata": {},
   "outputs": [
    {
     "name": "stdout",
     "output_type": "stream",
     "text": [
      "Daredevil (933.4005126953125)\n",
      "Agents of S.H.I.E.L.D. (523.7716674804688)\n",
      "The Punisher (512.8745727539062)\n",
      "Marvel's Avengers (490.4437255859375)\n",
      "Iron Fist (434.9502258300781)\n",
      "Spider-Man (413.992919921875)\n",
      "The Defenders (305.5509033203125)\n",
      "Marvel's Runaways (264.3628234863281)\n",
      "Marvels (237.4745178222656)\n",
      "Marvel's Midnight Suns (148.5897216796875)\n",
      "The Travels of Marco Polo (120.4388122558594)\n",
      "Iron Man VR (103.2113723754883)\n",
      "Modern Marvels (70.89960479736328)\n",
      "Marvel's Spider-Man: Game of the Year Edition (54.94108581542969)\n",
      "Marvel's Wolverine (52.88445663452148)\n",
      "Marvel Cinematic Universe (44.86837005615234)\n",
      "Marvel's Spider-Man 2 (38.32443618774414)\n",
      "The Marvels (34.57765960693359)\n",
      "Marvel Cinematic Universe: Phase Four (26.07511520385742)\n",
      "The Rihla (18.99358749389648)\n"
     ]
    }
   ],
   "source": [
    "\"\"\"Example of Python client calling Knowledge Graph Search API.\"\"\"\n",
    "from __future__ import print_function\n",
    "import json\n",
    "import urllib\n",
    "\n",
    "api_key = open('.api_key').read()\n",
    "query = 'marvels'\n",
    "service_url = 'https://kgsearch.googleapis.com/v1/entities:search'\n",
    "params = {\n",
    "    'query': query,\n",
    "    'limit': 20,\n",
    "    'indent': True,\n",
    "    'key': api_key,\n",
    "}\n",
    "url = service_url + '?' + urllib.parse.urlencode(params)\n",
    "response = json.loads(urllib.request.urlopen(url).read())\n",
    "for element in response['itemListElement']:\n",
    "  print(element['result']['name'] + ' (' + str(element['resultScore']) + ')')\n"
   ]
  },
  {
   "cell_type": "code",
   "execution_count": 18,
   "id": "bed26a94",
   "metadata": {},
   "outputs": [
    {
     "name": "stdout",
     "output_type": "stream",
     "text": [
      "American television series (933.4005126953125)\n",
      "American television series (523.7716674804688)\n",
      "Television series (512.8745727539062)\n",
      "Online game (490.4437255859375)\n",
      "American television series (434.9502258300781)\n",
      "Video game (413.992919921875)\n",
      "Television miniseries (305.5509033203125)\n",
      "Television series (264.3628234863281)\n",
      "Comic book series (237.4745178222656)\n",
      "Video game (148.5897216796875)\n",
      "Book by Marco Polo and Rustichello da Pisa (120.4388122558594)\n",
      "Video game (103.2113723754883)\n",
      "American television series (70.89960479736328)\n",
      "Video game (54.94108581542969)\n",
      "Video game (52.88445663452148)\n",
      "Fictional universe (44.86837005615234)\n",
      "Console game (38.32443618774414)\n",
      "2023 film (34.57765960693359)\n",
      "Film series (26.07511520385742)\n",
      "Book by Ibn Battuta (18.99358749389648)\n"
     ]
    }
   ],
   "source": [
    "for element in response['itemListElement']:\n",
    "  print(element['result']['description'] + ' (' + str(element['resultScore']) + ')')\n"
   ]
  },
  {
   "cell_type": "code",
   "execution_count": 14,
   "id": "0086a594",
   "metadata": {},
   "outputs": [
    {
     "data": {
      "text/plain": [
       "[{'resultScore': 933.4005126953125,\n",
       "  'result': {'description': 'American television series',\n",
       "   'url': 'http://marvel.com/tv/show/216/marvels_daredevil',\n",
       "   'detailedDescription': {'license': 'https://en.wikipedia.org/wiki/Wikipedia:Text_of_Creative_Commons_Attribution-ShareAlike_3.0_Unported_License',\n",
       "    'articleBody': \"Marvel's Daredevil, or simply Daredevil, is an American television series created by Drew Goddard for the streaming service Netflix, based on the Marvel Comics character of the same name. \",\n",
       "    'url': 'https://en.wikipedia.org/wiki/Daredevil_(TV_series)'},\n",
       "   '@id': 'kg:/m/010pwp1_',\n",
       "   'name': 'Daredevil',\n",
       "   '@type': ['Thing', 'CreativeWork', 'TVSeries']},\n",
       "  '@type': 'EntitySearchResult'},\n",
       " {'result': {'detailedDescription': {'url': 'https://en.wikipedia.org/wiki/Agents_of_S.H.I.E.L.D.',\n",
       "    'license': 'https://en.wikipedia.org/wiki/Wikipedia:Text_of_Creative_Commons_Attribution-ShareAlike_3.0_Unported_License',\n",
       "    'articleBody': \"Marvel's Agents of S.H.I.E.L.D. is an American television series created by Joss Whedon, Jed Whedon, and Maurissa Tancharoen for ABC, based on the Marvel Comics organization S.H.I.E.L.D., a peacekeeping and spy agency in a world of superheroes. \"},\n",
       "   'description': 'American television series',\n",
       "   '@id': 'kg:/m/0lqhm3l',\n",
       "   'name': 'Agents of S.H.I.E.L.D.',\n",
       "   '@type': ['Thing', 'CreativeWork', 'TVSeries'],\n",
       "   'url': 'http://abc.go.com/shows/marvels-agents-of-shield'},\n",
       "  '@type': 'EntitySearchResult',\n",
       "  'resultScore': 523.7716674804688},\n",
       " {'result': {'detailedDescription': {'url': 'https://en.wikipedia.org/wiki/The_Punisher_(TV_series)',\n",
       "    'articleBody': \"Marvel's The Punisher, or simply The Punisher, is an American television series created by Steve Lightfoot for the streaming service Netflix, based on the Marvel Comics character of the same name. \",\n",
       "    'license': 'https://en.wikipedia.org/wiki/Wikipedia:Text_of_Creative_Commons_Attribution-ShareAlike_3.0_Unported_License'},\n",
       "   '@id': 'kg:/g/11c582288v',\n",
       "   '@type': ['Thing', 'CreativeWork', 'TVSeries'],\n",
       "   'name': 'The Punisher',\n",
       "   'description': 'Television series'},\n",
       "  '@type': 'EntitySearchResult',\n",
       "  'resultScore': 512.8745727539062},\n",
       " {'resultScore': 490.4437255859375,\n",
       "  'result': {'detailedDescription': {'articleBody': \"Marvel's Avengers is a 2020 action role-playing brawler game developed by Crystal Dynamics and published by Square Enix. Based on the Marvel Comics superhero team the Avengers, the game is mainly inspired by the Marvel Cinematic Universe's iteration of the group, but also incorporates elements from the team's long-running comic book mythology. \",\n",
       "    'url': \"https://en.wikipedia.org/wiki/Marvel's_Avengers_(video_game)\",\n",
       "    'license': 'https://en.wikipedia.org/wiki/Wikipedia:Text_of_Creative_Commons_Attribution-ShareAlike_3.0_Unported_License'},\n",
       "   'description': 'Online game',\n",
       "   'name': \"Marvel's Avengers\",\n",
       "   '@id': 'kg:/g/11g0lc_d60',\n",
       "   '@type': ['Thing', 'ProductModel', 'VideoGame']},\n",
       "  '@type': 'EntitySearchResult'},\n",
       " {'resultScore': 434.9502258300781,\n",
       "  'result': {'description': 'American television series',\n",
       "   '@type': ['Thing', 'CreativeWork', 'TVSeries'],\n",
       "   '@id': 'kg:/g/11bwdrpn82',\n",
       "   'name': 'Iron Fist',\n",
       "   'detailedDescription': {'url': 'https://en.wikipedia.org/wiki/Iron_Fist_(TV_series)',\n",
       "    'articleBody': \"Marvel's Iron Fist, or simply Iron Fist, is an American television series created by Scott Buck for the streaming service Netflix, based on the Marvel Comics character of the same name. \",\n",
       "    'license': 'https://en.wikipedia.org/wiki/Wikipedia:Text_of_Creative_Commons_Attribution-ShareAlike_3.0_Unported_License'}},\n",
       "  '@type': 'EntitySearchResult'},\n",
       " {'@type': 'EntitySearchResult',\n",
       "  'resultScore': 413.992919921875,\n",
       "  'result': {'detailedDescription': {'license': 'https://en.wikipedia.org/wiki/Wikipedia:Text_of_Creative_Commons_Attribution-ShareAlike_3.0_Unported_License',\n",
       "    'url': 'https://en.wikipedia.org/wiki/Spider-Man_(2018_video_game)',\n",
       "    'articleBody': \"Marvel's Spider-Man is a 2018 action-adventure game developed by Insomniac Games and published by Sony Interactive Entertainment. \"},\n",
       "   'url': 'http://www.insomniacgames.com/games/spider-man-ps4/',\n",
       "   '@type': ['Thing', 'VideoGame'],\n",
       "   'description': 'Video game',\n",
       "   'name': 'Spider-Man',\n",
       "   '@id': 'kg:/g/11bzx4tgt5'}},\n",
       " {'resultScore': 305.5509033203125,\n",
       "  'result': {'@type': ['Thing', 'CreativeWork', 'TVSeries'],\n",
       "   'detailedDescription': {'license': 'https://en.wikipedia.org/wiki/Wikipedia:Text_of_Creative_Commons_Attribution-ShareAlike_3.0_Unported_License',\n",
       "    'articleBody': \"Marvel's The Defenders is an American television miniseries created by Douglas Petrie and Marco Ramirez for the streaming service Netflix, based on the Marvel Comics characters Daredevil, Jessica Jones, Luke Cage, and Iron Fist, who form the eponymous superhero team. \",\n",
       "    'url': 'https://en.wikipedia.org/wiki/The_Defenders_(miniseries)'},\n",
       "   'description': 'Television miniseries',\n",
       "   '@id': 'kg:/g/11c58l7qmc',\n",
       "   'name': 'The Defenders'},\n",
       "  '@type': 'EntitySearchResult'},\n",
       " {'result': {'detailedDescription': {'url': 'https://en.wikipedia.org/wiki/Runaways_(TV_series)',\n",
       "    'license': 'https://en.wikipedia.org/wiki/Wikipedia:Text_of_Creative_Commons_Attribution-ShareAlike_3.0_Unported_License',\n",
       "    'articleBody': \"Marvel's Runaways, or simply Runaways, is an American television series created by Josh Schwartz and Stephanie Savage for the streaming service Hulu, based on the Marvel Comics superhero team of the same name. \"},\n",
       "   '@type': ['Thing', 'CreativeWork', 'TVSeries'],\n",
       "   '@id': 'kg:/g/11c38jjw1t',\n",
       "   'name': \"Marvel's Runaways\",\n",
       "   'description': 'Television series'},\n",
       "  '@type': 'EntitySearchResult',\n",
       "  'resultScore': 264.3628234863281},\n",
       " {'@type': 'EntitySearchResult',\n",
       "  'resultScore': 237.4745178222656,\n",
       "  'result': {'description': 'Comic book series',\n",
       "   '@type': ['Thing'],\n",
       "   '@id': 'kg:/m/03l204',\n",
       "   'name': 'Marvels',\n",
       "   'detailedDescription': {'url': 'https://en.wikipedia.org/wiki/Marvels',\n",
       "    'articleBody': 'Marvels is a four-issue limited series comic book written by Kurt Busiek, painted by Alex Ross and edited by Marcus McLaurin. It was published by Marvel Comics in 1994.\\n',\n",
       "    'license': 'https://en.wikipedia.org/wiki/Wikipedia:Text_of_Creative_Commons_Attribution-ShareAlike_3.0_Unported_License'}}},\n",
       " {'result': {'name': \"Marvel's Midnight Suns\",\n",
       "   'description': 'Video game',\n",
       "   '@type': ['Thing', 'VideoGame'],\n",
       "   '@id': 'kg:/g/11qgfndms0',\n",
       "   'detailedDescription': {'articleBody': 'Marvel\\'s Midnight Suns is an upcoming tactical role-playing game developed by Firaxis Games in collaboration with Marvel Games. It will feature comic book characters from multiple Marvel properties, such as Midnight Sons, Avengers, X-Men, and Runaways. Players will be able to create their own superhero named \"The Hunter\" with choice of over 40 different powers.\\n',\n",
       "    'license': 'https://en.wikipedia.org/wiki/Wikipedia:Text_of_Creative_Commons_Attribution-ShareAlike_3.0_Unported_License',\n",
       "    'url': \"https://en.wikipedia.org/wiki/Marvel's_Midnight_Suns\"}},\n",
       "  '@type': 'EntitySearchResult',\n",
       "  'resultScore': 148.5897216796875},\n",
       " {'resultScore': 120.4388122558594,\n",
       "  'result': {'name': 'The Travels of Marco Polo',\n",
       "   '@id': 'kg:/m/02mxj6',\n",
       "   'detailedDescription': {'articleBody': \"Book of the Marvels of the World, in English commonly called The Travels of Marco Polo, is a 13th-century travelogue written down by Rustichello da Pisa from stories told by Italian explorer Marco Polo, describing Polo's travels through Asia between 1271 and 1295, and his experiences at the court of Kublai Khan.\\n\",\n",
       "    'license': 'https://en.wikipedia.org/wiki/Wikipedia:Text_of_Creative_Commons_Attribution-ShareAlike_3.0_Unported_License',\n",
       "    'url': 'https://en.wikipedia.org/wiki/The_Travels_of_Marco_Polo'},\n",
       "   'description': 'Book by Marco Polo and Rustichello da Pisa',\n",
       "   '@type': ['Book', 'Thing']},\n",
       "  '@type': 'EntitySearchResult'},\n",
       " {'@type': 'EntitySearchResult',\n",
       "  'result': {'detailedDescription': {'url': 'https://en.wikipedia.org/wiki/Iron_Man_VR',\n",
       "    'articleBody': \"Marvel's Iron Man VR is a virtual reality shooter video game developed by American studios Camouflaj and Darkwind Media and published by Sony Interactive Entertainment for the PlayStation 4's PlayStation VR headset. \",\n",
       "    'license': 'https://en.wikipedia.org/wiki/Wikipedia:Text_of_Creative_Commons_Attribution-ShareAlike_3.0_Unported_License'},\n",
       "   '@id': 'kg:/g/11fkkz_mfc',\n",
       "   'description': 'Video game',\n",
       "   '@type': ['Thing', 'ProductModel', 'VideoGame'],\n",
       "   'name': 'Iron Man VR'},\n",
       "  'resultScore': 103.2113723754883},\n",
       " {'@type': 'EntitySearchResult',\n",
       "  'resultScore': 70.89960479736328,\n",
       "  'result': {'description': 'American television series',\n",
       "   'name': 'Modern Marvels',\n",
       "   '@type': ['Thing', 'CreativeWork', 'TVSeries'],\n",
       "   '@id': 'kg:/m/05j9lh',\n",
       "   'detailedDescription': {'url': 'https://en.wikipedia.org/wiki/Modern_Marvels',\n",
       "    'license': 'https://en.wikipedia.org/wiki/Wikipedia:Text_of_Creative_Commons_Attribution-ShareAlike_3.0_Unported_License',\n",
       "    'articleBody': \"Modern Marvels is an American worldwide television series that formerly aired on the History Channel. The program focuses on how technologies affect and are used in modern society. It is History's first and longest-running program. \"},\n",
       "   'url': 'http://www.history.com/shows/modern-marvels/'}},\n",
       " {'@type': 'EntitySearchResult',\n",
       "  'result': {'name': \"Marvel's Spider-Man: Game of the Year Edition\",\n",
       "   'description': 'Video game',\n",
       "   '@type': ['Thing', 'VideoGame'],\n",
       "   '@id': 'kg:/g/11fq106w1c'},\n",
       "  'resultScore': 54.94108581542969},\n",
       " {'resultScore': 52.88445663452148,\n",
       "  '@type': 'EntitySearchResult',\n",
       "  'result': {'name': \"Marvel's Wolverine\",\n",
       "   'description': 'Video game',\n",
       "   '@id': 'kg:/g/11r_fgd54k',\n",
       "   '@type': ['Thing', 'VideoGame']}},\n",
       " {'resultScore': 44.86837005615234,\n",
       "  '@type': 'EntitySearchResult',\n",
       "  'result': {'name': 'Marvel Cinematic Universe',\n",
       "   'description': 'Fictional universe',\n",
       "   '@type': ['Thing'],\n",
       "   'detailedDescription': {'license': 'https://en.wikipedia.org/wiki/Wikipedia:Text_of_Creative_Commons_Attribution-ShareAlike_3.0_Unported_License',\n",
       "    'articleBody': 'The Marvel Cinematic Universe is an American media franchise and shared universe centered on a series of superhero films produced by Marvel Studios. The films are based on characters that appear in American comic books published by Marvel Comics. The franchise also includes television series, short films, digital series, and literature. ',\n",
       "    'url': 'https://en.wikipedia.org/wiki/Marvel_Cinematic_Universe'},\n",
       "   '@id': 'kg:/m/0by1sn_'}},\n",
       " {'result': {'name': \"Marvel's Spider-Man 2\",\n",
       "   '@type': ['Thing', 'VideoGame'],\n",
       "   'description': 'Console game',\n",
       "   '@id': 'kg:/g/11rcxb4zww'},\n",
       "  'resultScore': 38.32443618774414,\n",
       "  '@type': 'EntitySearchResult'},\n",
       " {'resultScore': 34.57765960693359,\n",
       "  '@type': 'EntitySearchResult',\n",
       "  'result': {'name': 'The Marvels',\n",
       "   '@type': ['Thing', 'Movie', 'CreativeWork'],\n",
       "   'description': '2023 film',\n",
       "   'detailedDescription': {'url': 'https://en.wikipedia.org/wiki/The_Marvels',\n",
       "    'articleBody': 'The Marvels is an upcoming American superhero film based on Marvel Comics featuring the characters Carol Danvers / Captain Marvel, Kamala Khan / Ms. Marvel, and Monica Rambeau. ',\n",
       "    'license': 'https://en.wikipedia.org/wiki/Wikipedia:Text_of_Creative_Commons_Attribution-ShareAlike_3.0_Unported_License'},\n",
       "   '@id': 'kg:/g/11jfld5h9n'}},\n",
       " {'@type': 'EntitySearchResult',\n",
       "  'result': {'name': 'Marvel Cinematic Universe: Phase Four',\n",
       "   '@id': 'kg:/g/11h_z7t16r',\n",
       "   'detailedDescription': {'license': 'https://en.wikipedia.org/wiki/Wikipedia:Text_of_Creative_Commons_Attribution-ShareAlike_3.0_Unported_License',\n",
       "    'articleBody': 'Phase Four of the Marvel Cinematic Universe is a group of American superhero films and television series produced by Marvel Studios based on characters that appear in publications by Marvel Comics. ',\n",
       "    'url': 'https://en.wikipedia.org/wiki/Marvel_Cinematic_Universe:_Phase_Four'},\n",
       "   '@type': ['Thing', 'MovieSeries', 'CreativeWork'],\n",
       "   'description': 'Film series'},\n",
       "  'resultScore': 26.07511520385742},\n",
       " {'@type': 'EntitySearchResult',\n",
       "  'resultScore': 19.44791984558105,\n",
       "  'result': {'detailedDescription': {'url': \"https://en.wikipedia.org/wiki/Stan_Lee's_Mutants,_Monsters_%26_Marvels\",\n",
       "    'articleBody': \"Stan Lee's Mutants, Monsters &amp; Marvels is a 2002 American documentary film produced by Creative Light Entertainment consisting of an interview of Marvel Comics publisher Stan Lee by film director Kevin Smith. \",\n",
       "    'license': 'https://en.wikipedia.org/wiki/Wikipedia:Text_of_Creative_Commons_Attribution-ShareAlike_3.0_Unported_License'},\n",
       "   '@id': 'kg:/m/0131z425',\n",
       "   'description': '2002 film',\n",
       "   '@type': ['Thing', 'Movie', 'CreativeWork'],\n",
       "   'name': \"Stan Lee's Mutants, Monsters &amp; Marvels\"}},\n",
       " {'result': {'name': 'The Rihla',\n",
       "   'description': 'Book by Ibn Battuta',\n",
       "   '@type': ['Book', 'Thing'],\n",
       "   '@id': 'kg:/g/11mw4_65s0',\n",
       "   'detailedDescription': {'articleBody': 'The Rihla, formal title A Masterpiece to Those Who Contemplate the Wonders of Cities and the Marvels of Travelling, is the travelogue written by Ibn Battuta, documenting his lifetime of travel and exploration, which according to his description covered about 70,000 miles. ',\n",
       "    'license': 'https://en.wikipedia.org/wiki/Wikipedia:Text_of_Creative_Commons_Attribution-ShareAlike_3.0_Unported_License',\n",
       "    'url': 'https://en.wikipedia.org/wiki/The_Rihla'}},\n",
       "  'resultScore': 18.99358749389648,\n",
       "  '@type': 'EntitySearchResult'},\n",
       " {'@type': 'EntitySearchResult',\n",
       "  'result': {'name': \"Marvel's The Inhumans\",\n",
       "   '@id': 'kg:/g/11c2kbnctk',\n",
       "   'detailedDescription': {'articleBody': \"Marvel's Inhumans, or simply Inhumans, is an American television series created by Scott Buck for ABC, based on the Marvel Comics race of the same name. It is set in the Marvel Cinematic Universe and acknowledges the franchise's other television series. \",\n",
       "    'license': 'https://en.wikipedia.org/wiki/Wikipedia:Text_of_Creative_Commons_Attribution-ShareAlike_3.0_Unported_License',\n",
       "    'url': 'https://en.wikipedia.org/wiki/Inhumans_(TV_series)'},\n",
       "   '@type': ['Thing', 'CreativeWork', 'TVSeries'],\n",
       "   'description': 'Television series'},\n",
       "  'resultScore': 16.41730499267578},\n",
       " {'result': {'@type': ['Book', 'Thing'],\n",
       "   'name': 'Marvels',\n",
       "   '@id': 'kg:/m/0j3j6n4',\n",
       "   'description': 'Book'},\n",
       "  'resultScore': 13.04494857788086,\n",
       "  '@type': 'EntitySearchResult'},\n",
       " {'@type': 'EntitySearchResult',\n",
       "  'result': {'name': 'Oceanic',\n",
       "   '@id': 'kg:/g/12bn82gbl',\n",
       "   'description': 'Book by Greg Egan',\n",
       "   '@type': ['Book', 'Thing']},\n",
       "  'resultScore': 10.32162761688232},\n",
       " {'result': {'@type': ['Thing', 'CreativeWork', 'TVSeries'],\n",
       "   'name': '10 That Changed America',\n",
       "   'detailedDescription': {'url': 'https://en.wikipedia.org/wiki/10_That_Changed_America',\n",
       "    'license': 'https://en.wikipedia.org/wiki/Wikipedia:Text_of_Creative_Commons_Attribution-ShareAlike_3.0_Unported_License',\n",
       "    'articleBody': '10 That Changed America is a series of television documentary films about the history of architecture and urban planning produced by US public service broadcaster PBS member station WTTW from 2013 to 2018. '},\n",
       "   'description': 'Television series',\n",
       "   '@id': 'kg:/g/11gj19tb97'},\n",
       "  'resultScore': 8.628939628601074,\n",
       "  '@type': 'EntitySearchResult'},\n",
       " {'result': {'@id': 'kg:/m/09yg8r',\n",
       "   'name': 'Multiverse',\n",
       "   'detailedDescription': {'url': 'https://en.wikipedia.org/wiki/Multiverse_(Marvel_Comics)',\n",
       "    'articleBody': 'Within Marvel Comics, most tales take place within the fictional Marvel Universe, which in turn is part of a larger multiverse. ',\n",
       "    'license': 'https://en.wikipedia.org/wiki/Wikipedia:Text_of_Creative_Commons_Attribution-ShareAlike_3.0_Unported_License'},\n",
       "   '@type': ['Thing']},\n",
       "  '@type': 'EntitySearchResult',\n",
       "  'resultScore': 7.153249740600586},\n",
       " {'resultScore': 7,\n",
       "  '@type': 'EntitySearchResult',\n",
       "  'result': {'@id': 'kg:/g/11j9f8rq7q',\n",
       "   'name': 'Marvels',\n",
       "   '@type': ['Thing', 'MusicRecording']}},\n",
       " {'resultScore': 7,\n",
       "  'result': {'name': 'Marvels',\n",
       "   '@type': ['Thing', 'CreativeWork', 'TVSeries'],\n",
       "   '@id': 'kg:/g/11klly2q6j'},\n",
       "  '@type': 'EntitySearchResult'},\n",
       " {'resultScore': 7,\n",
       "  'result': {'@type': ['Thing'], '@id': 'kg:/g/11h95cr3yy', 'name': 'Marvels'},\n",
       "  '@type': 'EntitySearchResult'}]"
      ]
     },
     "execution_count": 14,
     "metadata": {},
     "output_type": "execute_result"
    }
   ],
   "source": [
    "response['itemListElement']"
   ]
  },
  {
   "cell_type": "code",
   "execution_count": 19,
   "id": "9a933fa3",
   "metadata": {},
   "outputs": [
    {
     "name": "stdout",
     "output_type": "stream",
     "text": [
      "Superheroes (1087.267456054688)\n",
      "Marvel Superheroes Secret Wars (265.3215942382812)\n",
      "Superheroes (262.9957275390625)\n",
      "Lego Marvel Super Heroes 2 (253.1414794921875)\n",
      "Lego Marvel Super Heroes (240.3051452636719)\n",
      "Superheroes (217.8643798828125)\n",
      "Guardians (201.0931243896484)\n",
      "Zoom (132.3548736572266)\n",
      "Lego Batman 2: DC Super Heroes (131.5540313720703)\n",
      "Lego Batman: The Movie – DC Super Heroes Unite (73.03632354736328)\n",
      "The Speed of Life (71.05923461914062)\n",
      "Lego DC Comics Super Heroes: Justice League – Gotham City Breakout (37.80532836914062)\n",
      "Superheroes (26.21506309509277)\n",
      "All Superheroes Must Die (23.79545021057129)\n",
      "Superheroes (22.35565948486328)\n",
      "Superheroes (19.82854270935059)\n",
      "Guinness World Records 2018 (12.38252449035645)\n",
      "Superheroes (7)\n",
      "Superheroes (7)\n",
      "Superheroes (7)\n"
     ]
    }
   ],
   "source": [
    "\"\"\"Example of Python client calling Knowledge Graph Search API.\"\"\"\n",
    "from __future__ import print_function\n",
    "import json\n",
    "import urllib\n",
    "\n",
    "api_key = open('.api_key').read()\n",
    "query = 'superheroes'\n",
    "service_url = 'https://kgsearch.googleapis.com/v1/entities:search'\n",
    "params = {\n",
    "    'query': query,\n",
    "    'limit': 20,\n",
    "    'indent': True,\n",
    "    'key': api_key,\n",
    "}\n",
    "url = service_url + '?' + urllib.parse.urlencode(params)\n",
    "response = json.loads(urllib.request.urlopen(url).read())\n",
    "for element in response['itemListElement']:\n",
    "  print(element['result']['name'] + ' (' + str(element['resultScore']) + ')')"
   ]
  },
  {
   "cell_type": "code",
   "execution_count": 20,
   "id": "402c4eeb",
   "metadata": {},
   "outputs": [
    {
     "name": "stdout",
     "output_type": "stream",
     "text": [
      "2021 film (1087.267456054688)\n",
      "Comic book series (265.3215942382812)\n",
      "Song by Danny O'Donoghue, James Barry, and Mark Sheehan (262.9957275390625)\n",
      "Video game (253.1414794921875)\n",
      "Video game (240.3051452636719)\n",
      "Pop band (217.8643798828125)\n",
      "2017 film (201.0931243896484)\n",
      "2006 film (132.3548736572266)\n",
      "Video game (131.5540313720703)\n",
      "2013 film (73.03632354736328)\n",
      "2007 film (71.05923461914062)\n",
      "2016 film (37.80532836914062)\n",
      "2011 film (26.21506309509277)\n",
      "2011 film (23.79545021057129)\n",
      "Studio album by Racer X (22.35565948486328)\n",
      "Album by Edguy (19.82854270935059)\n"
     ]
    },
    {
     "ename": "KeyError",
     "evalue": "'description'",
     "output_type": "error",
     "traceback": [
      "\u001b[0;31m---------------------------------------------------------------------------\u001b[0m",
      "\u001b[0;31mKeyError\u001b[0m                                  Traceback (most recent call last)",
      "\u001b[0;32m<ipython-input-20-0c8d591977ab>\u001b[0m in \u001b[0;36m<module>\u001b[0;34m\u001b[0m\n\u001b[1;32m      1\u001b[0m \u001b[0;32mfor\u001b[0m \u001b[0melement\u001b[0m \u001b[0;32min\u001b[0m \u001b[0mresponse\u001b[0m\u001b[0;34m[\u001b[0m\u001b[0;34m'itemListElement'\u001b[0m\u001b[0;34m]\u001b[0m\u001b[0;34m:\u001b[0m\u001b[0;34m\u001b[0m\u001b[0;34m\u001b[0m\u001b[0m\n\u001b[0;32m----> 2\u001b[0;31m   \u001b[0mprint\u001b[0m\u001b[0;34m(\u001b[0m\u001b[0melement\u001b[0m\u001b[0;34m[\u001b[0m\u001b[0;34m'result'\u001b[0m\u001b[0;34m]\u001b[0m\u001b[0;34m[\u001b[0m\u001b[0;34m'description'\u001b[0m\u001b[0;34m]\u001b[0m \u001b[0;34m+\u001b[0m \u001b[0;34m' ('\u001b[0m \u001b[0;34m+\u001b[0m \u001b[0mstr\u001b[0m\u001b[0;34m(\u001b[0m\u001b[0melement\u001b[0m\u001b[0;34m[\u001b[0m\u001b[0;34m'resultScore'\u001b[0m\u001b[0;34m]\u001b[0m\u001b[0;34m)\u001b[0m \u001b[0;34m+\u001b[0m \u001b[0;34m')'\u001b[0m\u001b[0;34m)\u001b[0m\u001b[0;34m\u001b[0m\u001b[0;34m\u001b[0m\u001b[0m\n\u001b[0m",
      "\u001b[0;31mKeyError\u001b[0m: 'description'"
     ]
    }
   ],
   "source": [
    "for element in response['itemListElement']:\n",
    "  print(element['result']['description'] + ' (' + str(element['resultScore']) + ')')"
   ]
  },
  {
   "cell_type": "code",
   "execution_count": 1,
   "id": "f495c701",
   "metadata": {},
   "outputs": [],
   "source": [
    "pair = (1,2)"
   ]
  },
  {
   "cell_type": "code",
   "execution_count": 2,
   "id": "f4550087",
   "metadata": {},
   "outputs": [
    {
     "data": {
      "text/plain": [
       "(1, 2)"
      ]
     },
     "execution_count": 2,
     "metadata": {},
     "output_type": "execute_result"
    }
   ],
   "source": [
    "pair"
   ]
  },
  {
   "cell_type": "code",
   "execution_count": 3,
   "id": "eac21d52",
   "metadata": {},
   "outputs": [],
   "source": [
    "x, y = pair"
   ]
  },
  {
   "cell_type": "code",
   "execution_count": 4,
   "id": "1742ec54",
   "metadata": {},
   "outputs": [
    {
     "data": {
      "text/plain": [
       "1"
      ]
     },
     "execution_count": 4,
     "metadata": {},
     "output_type": "execute_result"
    }
   ],
   "source": [
    "x"
   ]
  },
  {
   "cell_type": "code",
   "execution_count": 6,
   "id": "1745ab48",
   "metadata": {},
   "outputs": [],
   "source": [
    "x = set([1,2])\n",
    "y = set([2,1])\n",
    "\n"
   ]
  },
  {
   "cell_type": "code",
   "execution_count": 10,
   "id": "31a3f388",
   "metadata": {},
   "outputs": [
    {
     "ename": "TypeError",
     "evalue": "'set' object is not subscriptable",
     "output_type": "error",
     "traceback": [
      "\u001b[0;31m---------------------------------------------------------------------------\u001b[0m",
      "\u001b[0;31mTypeError\u001b[0m                                 Traceback (most recent call last)",
      "\u001b[0;32m<ipython-input-10-5bfdbcf39e94>\u001b[0m in \u001b[0;36m<module>\u001b[0;34m\u001b[0m\n\u001b[0;32m----> 1\u001b[0;31m \u001b[0my\u001b[0m\u001b[0;34m[\u001b[0m\u001b[0;36m0\u001b[0m\u001b[0;34m]\u001b[0m\u001b[0;34m\u001b[0m\u001b[0;34m\u001b[0m\u001b[0m\n\u001b[0m",
      "\u001b[0;31mTypeError\u001b[0m: 'set' object is not subscriptable"
     ]
    }
   ],
   "source": [
    "y[0]"
   ]
  },
  {
   "cell_type": "code",
   "execution_count": null,
   "id": "b540e83d",
   "metadata": {},
   "outputs": [],
   "source": []
  }
 ],
 "metadata": {
  "kernelspec": {
   "display_name": "Python 3",
   "language": "python",
   "name": "python3"
  },
  "language_info": {
   "codemirror_mode": {
    "name": "ipython",
    "version": 3
   },
   "file_extension": ".py",
   "mimetype": "text/x-python",
   "name": "python",
   "nbconvert_exporter": "python",
   "pygments_lexer": "ipython3",
   "version": "3.7.11"
  }
 },
 "nbformat": 4,
 "nbformat_minor": 5
}
